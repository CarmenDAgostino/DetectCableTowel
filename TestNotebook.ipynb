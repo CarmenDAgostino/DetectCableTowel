{
  "cells": [
    {
      "cell_type": "markdown",
      "metadata": {
        "id": "view-in-github",
        "colab_type": "text"
      },
      "source": [
        "<a href=\"https://colab.research.google.com/github/ileniagalati/computer_vision_project/blob/main/FINALE_TestNotebook.ipynb\" target=\"_parent\"><img src=\"https://colab.research.google.com/assets/colab-badge.svg\" alt=\"Open In Colab\"/></a>"
      ]
    },
    {
      "cell_type": "markdown",
      "source": [
        "### Cable and towel detection and segmentation"
      ],
      "metadata": {
        "id": "4gny2eHV4-P8"
      },
      "id": "4gny2eHV4-P8"
    },
    {
      "cell_type": "code",
      "execution_count": 1,
      "id": "e283f149-a2c1-4242-932c-9bd056029411",
      "metadata": {
        "id": "e283f149-a2c1-4242-932c-9bd056029411"
      },
      "outputs": [],
      "source": [
        "import locale\n",
        "import json\n",
        "import json\n",
        "from pycocotools.coco import COCO\n",
        "from pycocotools.cocoeval import COCOeval\n",
        "\n",
        "locale.getpreferredencoding = lambda: \"UTF-8\""
      ]
    },
    {
      "cell_type": "code",
      "execution_count": 2,
      "id": "c7f2416c-0e77-47d3-a397-ad95477d655c",
      "metadata": {
        "id": "c7f2416c-0e77-47d3-a397-ad95477d655c",
        "outputId": "7b4243dc-c65f-4026-a43c-57789374a44c",
        "colab": {
          "base_uri": "https://localhost:8080/"
        }
      },
      "outputs": [
        {
          "output_type": "stream",
          "name": "stdout",
          "text": [
            "Mounted at /content/drive\n"
          ]
        }
      ],
      "source": [
        "# Collegamento al drive per ottenere il file json con i risultati del training e il test set, in alternativa inserire di seguito i path corretti\n",
        "from google.colab import drive\n",
        "drive.mount('/content/drive')"
      ]
    },
    {
      "cell_type": "code",
      "source": [
        "test_path = '/content/drive/MyDrive/dataset_progetto_cv/testset'\n",
        "test_file =  'test.json'\n",
        "output_path= '/content/drive/MyDrive/output/coco_instances_results.json'"
      ],
      "metadata": {
        "id": "JTmS4geJnXj_"
      },
      "id": "JTmS4geJnXj_",
      "execution_count": 3,
      "outputs": []
    },
    {
      "cell_type": "code",
      "execution_count": 4,
      "id": "0e99a829-2fcd-460a-8655-093f89bee06a",
      "metadata": {
        "tags": [],
        "id": "0e99a829-2fcd-460a-8655-093f89bee06a",
        "outputId": "db9e85d8-76b5-441d-f98e-8b3f09ce1c30",
        "colab": {
          "base_uri": "https://localhost:8080/"
        }
      },
      "outputs": [
        {
          "output_type": "stream",
          "name": "stdout",
          "text": [
            "Requirement already satisfied: pycocotools in /usr/local/lib/python3.10/dist-packages (2.0.7)\n",
            "Requirement already satisfied: matplotlib>=2.1.0 in /usr/local/lib/python3.10/dist-packages (from pycocotools) (3.7.1)\n",
            "Requirement already satisfied: numpy in /usr/local/lib/python3.10/dist-packages (from pycocotools) (1.23.5)\n",
            "Requirement already satisfied: contourpy>=1.0.1 in /usr/local/lib/python3.10/dist-packages (from matplotlib>=2.1.0->pycocotools) (1.2.0)\n",
            "Requirement already satisfied: cycler>=0.10 in /usr/local/lib/python3.10/dist-packages (from matplotlib>=2.1.0->pycocotools) (0.12.1)\n",
            "Requirement already satisfied: fonttools>=4.22.0 in /usr/local/lib/python3.10/dist-packages (from matplotlib>=2.1.0->pycocotools) (4.47.2)\n",
            "Requirement already satisfied: kiwisolver>=1.0.1 in /usr/local/lib/python3.10/dist-packages (from matplotlib>=2.1.0->pycocotools) (1.4.5)\n",
            "Requirement already satisfied: packaging>=20.0 in /usr/local/lib/python3.10/dist-packages (from matplotlib>=2.1.0->pycocotools) (23.2)\n",
            "Requirement already satisfied: pillow>=6.2.0 in /usr/local/lib/python3.10/dist-packages (from matplotlib>=2.1.0->pycocotools) (9.4.0)\n",
            "Requirement already satisfied: pyparsing>=2.3.1 in /usr/local/lib/python3.10/dist-packages (from matplotlib>=2.1.0->pycocotools) (3.1.1)\n",
            "Requirement already satisfied: python-dateutil>=2.7 in /usr/local/lib/python3.10/dist-packages (from matplotlib>=2.1.0->pycocotools) (2.8.2)\n",
            "Requirement already satisfied: six>=1.5 in /usr/local/lib/python3.10/dist-packages (from python-dateutil>=2.7->matplotlib>=2.1.0->pycocotools) (1.16.0)\n"
          ]
        }
      ],
      "source": [
        "!pip install pycocotools"
      ]
    },
    {
      "cell_type": "markdown",
      "id": "77e6dfd2-bce6-4115-8c39-8421431fb16e",
      "metadata": {
        "id": "77e6dfd2-bce6-4115-8c39-8421431fb16e"
      },
      "source": [
        "# Generate output json"
      ]
    },
    {
      "cell_type": "code",
      "execution_count": 5,
      "id": "d3c97daa-a958-46ec-905d-d8c3b54fba8e",
      "metadata": {
        "id": "d3c97daa-a958-46ec-905d-d8c3b54fba8e"
      },
      "outputs": [],
      "source": [
        "#ci serve avere il risultato su due file separati per bbox e maschere\n",
        "import pycocotools\n",
        "# Carica le predizioni dal file\n",
        "with open(output_path, 'r') as file:\n",
        "    predizioni = json.load(file)\n",
        "\n",
        "# Estrai box e maschere\n",
        "box_predizioni = []\n",
        "maschere_predizioni = []\n",
        "\n",
        "for predizione in predizioni:\n",
        "    # Estrai le informazioni necessarie per box e maschere\n",
        "    image_id= predizione['image_id']\n",
        "    category_id= predizione['category_id']\n",
        "    bbox= predizione['bbox']\n",
        "    score= predizione['score']\n",
        "    maschera = predizione['segmentation']\n",
        "\n",
        "    bbox = [round(float(x) * 10) / 10 for x in bbox]\n",
        "\n",
        "    box_predizioni.append({\n",
        "        'image_id': int(image_id),\n",
        "        'category_id': int(category_id),\n",
        "        'bbox': bbox,\n",
        "        'score': float(score)\n",
        "      })\n",
        "\n",
        "    maschere_predizioni.append({\n",
        "        'image_id': int(image_id),\n",
        "        'category_id': int(category_id),\n",
        "        'segmentation': {\n",
        "            'size': maschera['size'],\n",
        "            'counts': maschera['counts']\n",
        "        },\n",
        "            'score': float(score)\n",
        "        })\n",
        "\n",
        "# Salva le predizioni di box in un nuovo file\n",
        "with open('bbox_detections.json', 'w') as file:\n",
        "    json.dump(box_predizioni, file)\n",
        "\n",
        "# Salva le predizioni di maschere in un nuovo file\n",
        "with open('mask_detections.json', 'w') as file:\n",
        "    json.dump(maschere_predizioni, file)\n"
      ]
    },
    {
      "cell_type": "markdown",
      "id": "6db733eb-6261-4fa6-bd28-2b0bc3f4270b",
      "metadata": {
        "id": "6db733eb-6261-4fa6-bd28-2b0bc3f4270b"
      },
      "source": [
        "# Compute metrics"
      ]
    },
    {
      "cell_type": "code",
      "execution_count": 6,
      "id": "f7d08cd5-e042-4372-a654-22cd32cd4d86",
      "metadata": {
        "id": "f7d08cd5-e042-4372-a654-22cd32cd4d86",
        "outputId": "fa561780-d452-4f91-f4dd-cd59b691421d",
        "colab": {
          "base_uri": "https://localhost:8080/"
        }
      },
      "outputs": [
        {
          "output_type": "stream",
          "name": "stdout",
          "text": [
            "loading annotations into memory...\n",
            "Done (t=3.88s)\n",
            "creating index...\n",
            "index created!\n"
          ]
        },
        {
          "output_type": "execute_result",
          "data": {
            "text/plain": [
              "{0: {'supercategory': 'cable', 'id': 0, 'name': 'cable'},\n",
              " 1: {'supercategory': 'tower_lattice', 'id': 1, 'name': 'tower_lattice'},\n",
              " 2: {'supercategory': 'tower_tucohy', 'id': 2, 'name': 'tower_tucohy'},\n",
              " 3: {'supercategory': 'tower_wooden', 'id': 3, 'name': 'tower_wooden'}}"
            ]
          },
          "metadata": {},
          "execution_count": 6
        }
      ],
      "source": [
        "test = test_path+'/'+test_file\n",
        "\n",
        "gt = COCO(test)\n",
        "\n",
        "gt.cats"
      ]
    },
    {
      "cell_type": "code",
      "execution_count": 7,
      "id": "44fc0999-eac8-4dc5-8f19-74ee027a694e",
      "metadata": {
        "id": "44fc0999-eac8-4dc5-8f19-74ee027a694e",
        "outputId": "32727075-744d-4af1-f2da-a1b120d3052f",
        "colab": {
          "base_uri": "https://localhost:8080/"
        }
      },
      "outputs": [
        {
          "output_type": "stream",
          "name": "stdout",
          "text": [
            "loading annotations into memory...\n",
            "Done (t=0.30s)\n",
            "creating index...\n",
            "index created!\n",
            "Loading and preparing results...\n",
            "DONE (t=0.02s)\n",
            "creating index...\n",
            "index created!\n"
          ]
        },
        {
          "output_type": "execute_result",
          "data": {
            "text/plain": [
              "{0: {'supercategory': 'cable', 'id': 0, 'name': 'cable'},\n",
              " 1: {'supercategory': 'tower_lattice', 'id': 1, 'name': 'tower_lattice'},\n",
              " 2: {'supercategory': 'tower_tucohy', 'id': 2, 'name': 'tower_tucohy'},\n",
              " 3: {'supercategory': 'tower_wooden', 'id': 3, 'name': 'tower_wooden'}}"
            ]
          },
          "metadata": {},
          "execution_count": 7
        }
      ],
      "source": [
        "gt = COCO(test)\n",
        "detections = gt.loadRes('/content/bbox_detections.json')\n",
        "\n",
        "detections.cats"
      ]
    },
    {
      "cell_type": "code",
      "execution_count": 8,
      "id": "d067c05e-8ad7-45b0-b44a-6105e81f0e1e",
      "metadata": {
        "id": "d067c05e-8ad7-45b0-b44a-6105e81f0e1e",
        "outputId": "99d788e0-41d3-444e-b78c-36457ec2aafd",
        "colab": {
          "base_uri": "https://localhost:8080/"
        }
      },
      "outputs": [
        {
          "output_type": "stream",
          "name": "stdout",
          "text": [
            "Running per image evaluation...\n",
            "Evaluate annotation type *bbox*\n",
            "DONE (t=1.15s).\n",
            "Accumulating evaluation results...\n",
            "DONE (t=0.14s).\n",
            " Average Precision  (AP) @[ IoU=0.50:0.95 | area=   all | maxDets=100 ] = 0.433\n",
            " Average Precision  (AP) @[ IoU=0.50      | area=   all | maxDets=100 ] = 0.595\n",
            " Average Precision  (AP) @[ IoU=0.75      | area=   all | maxDets=100 ] = 0.488\n",
            " Average Precision  (AP) @[ IoU=0.50:0.95 | area= small | maxDets=100 ] = 0.206\n",
            " Average Precision  (AP) @[ IoU=0.50:0.95 | area=medium | maxDets=100 ] = 0.458\n",
            " Average Precision  (AP) @[ IoU=0.50:0.95 | area= large | maxDets=100 ] = 0.495\n",
            " Average Recall     (AR) @[ IoU=0.50:0.95 | area=   all | maxDets=  1 ] = 0.344\n",
            " Average Recall     (AR) @[ IoU=0.50:0.95 | area=   all | maxDets= 10 ] = 0.496\n",
            " Average Recall     (AR) @[ IoU=0.50:0.95 | area=   all | maxDets=100 ] = 0.507\n",
            " Average Recall     (AR) @[ IoU=0.50:0.95 | area= small | maxDets=100 ] = 0.212\n",
            " Average Recall     (AR) @[ IoU=0.50:0.95 | area=medium | maxDets=100 ] = 0.508\n",
            " Average Recall     (AR) @[ IoU=0.50:0.95 | area= large | maxDets=100 ] = 0.727\n"
          ]
        }
      ],
      "source": [
        "# running evaluation\n",
        "annType = 'bbox'\n",
        "cocoEval = COCOeval(gt, detections, annType)\n",
        "#cocoEval.params.imgIds  = imgIds\n",
        "cocoEval.evaluate()\n",
        "cocoEval.accumulate()\n",
        "cocoEval.summarize()"
      ]
    },
    {
      "cell_type": "code",
      "execution_count": 9,
      "id": "7b348631-ee79-43e5-b09f-8311b6c7851d",
      "metadata": {
        "id": "7b348631-ee79-43e5-b09f-8311b6c7851d",
        "outputId": "41a76e8e-fbc6-4768-9f65-679738762e2b",
        "colab": {
          "base_uri": "https://localhost:8080/"
        }
      },
      "outputs": [
        {
          "output_type": "stream",
          "name": "stdout",
          "text": [
            "Loading and preparing results...\n",
            "DONE (t=0.07s)\n",
            "creating index...\n",
            "index created!\n",
            "Running per image evaluation...\n",
            "Evaluate annotation type *segm*\n",
            "DONE (t=1.35s).\n",
            "Accumulating evaluation results...\n",
            "DONE (t=0.12s).\n",
            " Average Precision  (AP) @[ IoU=0.50:0.95 | area=   all | maxDets=100 ] = 0.226\n",
            " Average Precision  (AP) @[ IoU=0.50      | area=   all | maxDets=100 ] = 0.405\n",
            " Average Precision  (AP) @[ IoU=0.75      | area=   all | maxDets=100 ] = 0.216\n",
            " Average Precision  (AP) @[ IoU=0.50:0.95 | area= small | maxDets=100 ] = 0.021\n",
            " Average Precision  (AP) @[ IoU=0.50:0.95 | area=medium | maxDets=100 ] = 0.188\n",
            " Average Precision  (AP) @[ IoU=0.50:0.95 | area= large | maxDets=100 ] = 0.393\n",
            " Average Recall     (AR) @[ IoU=0.50:0.95 | area=   all | maxDets=  1 ] = 0.227\n",
            " Average Recall     (AR) @[ IoU=0.50:0.95 | area=   all | maxDets= 10 ] = 0.299\n",
            " Average Recall     (AR) @[ IoU=0.50:0.95 | area=   all | maxDets=100 ] = 0.301\n",
            " Average Recall     (AR) @[ IoU=0.50:0.95 | area= small | maxDets=100 ] = 0.056\n",
            " Average Recall     (AR) @[ IoU=0.50:0.95 | area=medium | maxDets=100 ] = 0.276\n",
            " Average Recall     (AR) @[ IoU=0.50:0.95 | area= large | maxDets=100 ] = 0.478\n"
          ]
        }
      ],
      "source": [
        "# running evaluation\n",
        "annType = 'segm'\n",
        "detections = gt.loadRes('/content/mask_detections.json')\n",
        "cocoEval = COCOeval(gt, detections, annType)\n",
        "#cocoEval.params.imgIds  = imgIds\n",
        "cocoEval.evaluate()\n",
        "cocoEval.accumulate()\n",
        "cocoEval.summarize()"
      ]
    },
    {
      "cell_type": "code",
      "execution_count": 10,
      "id": "a3b893c7-742e-4a06-864f-d18f54c23fdc",
      "metadata": {
        "id": "a3b893c7-742e-4a06-864f-d18f54c23fdc",
        "outputId": "159c1063-1778-4e68-bc04-4a1365546544",
        "colab": {
          "base_uri": "https://localhost:8080/"
        }
      },
      "outputs": [
        {
          "output_type": "stream",
          "name": "stdout",
          "text": [
            "<class 'list'> 2855\n"
          ]
        },
        {
          "output_type": "execute_result",
          "data": {
            "text/plain": [
              "{'image_id': 0,\n",
              " 'category_id': 0,\n",
              " 'bbox': [320.9, 5.1, 76.1, 688.8],\n",
              " 'score': 0.9997333884239197}"
            ]
          },
          "metadata": {},
          "execution_count": 10
        }
      ],
      "source": [
        "with open('/content/bbox_detections.json') as fp_src:\n",
        "    data = json.load(fp_src)\n",
        "\n",
        "print(type(data), len(data))\n",
        "data[0]"
      ]
    },
    {
      "cell_type": "code",
      "execution_count": 13,
      "id": "5a37d60a-bcd4-4d71-aa20-104d9e8e42a1",
      "metadata": {
        "id": "5a37d60a-bcd4-4d71-aa20-104d9e8e42a1",
        "outputId": "be89edf6-7d16-4be9-cf57-645ff651d800",
        "colab": {
          "base_uri": "https://localhost:8080/"
        }
      },
      "outputs": [
        {
          "output_type": "stream",
          "name": "stdout",
          "text": [
            "<class 'list'> 2855\n"
          ]
        },
        {
          "output_type": "execute_result",
          "data": {
            "text/plain": [
              "{'image_id': 0,\n",
              " 'category_id': 0,\n",
              " 'segmentation': {'size': [700, 700],\n",
              "  'counts': 'P[d77de05Mb0^O76F27H49NE6NN42H601K5I52L05I25LN5LO61H32M24I07OM0ON43K21O20L6L40G2J9E8H<^Oh_^6'},\n",
              " 'score': 0.9997333884239197}"
            ]
          },
          "metadata": {},
          "execution_count": 13
        }
      ],
      "source": [
        "with open('/content/mask_detections.json') as fp_src:\n",
        "    data = json.load(fp_src)\n",
        "\n",
        "print(type(data), len(data))\n",
        "data[0]"
      ]
    }
  ],
  "metadata": {
    "kernelspec": {
      "display_name": "Python 3 (ipykernel)",
      "language": "python",
      "name": "python3"
    },
    "language_info": {
      "codemirror_mode": {
        "name": "ipython",
        "version": 3
      },
      "file_extension": ".py",
      "mimetype": "text/x-python",
      "name": "python",
      "nbconvert_exporter": "python",
      "pygments_lexer": "ipython3",
      "version": "3.7.4"
    },
    "colab": {
      "provenance": [],
      "include_colab_link": true
    }
  },
  "nbformat": 4,
  "nbformat_minor": 5
}